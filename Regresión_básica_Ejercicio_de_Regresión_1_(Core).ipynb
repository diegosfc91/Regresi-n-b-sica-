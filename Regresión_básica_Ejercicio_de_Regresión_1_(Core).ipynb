{
  "nbformat": 4,
  "nbformat_minor": 0,
  "metadata": {
    "colab": {
      "provenance": [],
      "authorship_tag": "ABX9TyNORZOkXccS8/y3EY+CwJl9",
      "include_colab_link": true
    },
    "kernelspec": {
      "name": "python3",
      "display_name": "Python 3"
    },
    "language_info": {
      "name": "python"
    }
  },
  "cells": [
    {
      "cell_type": "markdown",
      "metadata": {
        "id": "view-in-github",
        "colab_type": "text"
      },
      "source": [
        "<a href=\"https://colab.research.google.com/github/diegosfc91/Regresi-n-b-sica-/blob/main/Regresi%C3%B3n_b%C3%A1sica_Ejercicio_de_Regresi%C3%B3n_1_(Core).ipynb\" target=\"_parent\"><img src=\"https://colab.research.google.com/assets/colab-badge.svg\" alt=\"Open In Colab\"/></a>"
      ]
    },
    {
      "cell_type": "code",
      "execution_count": 9,
      "metadata": {
        "colab": {
          "base_uri": "https://localhost:8080/"
        },
        "id": "KTWFWDmSXnZz",
        "outputId": "b9ab3f89-0c61-4768-d4cb-f06333deb91b"
      },
      "outputs": [
        {
          "output_type": "stream",
          "name": "stdout",
          "text": [
            "Información del DataFrame:\n",
            "<class 'pandas.core.frame.DataFrame'>\n",
            "RangeIndex: 128 entries, 0 to 127\n",
            "Data columns (total 8 columns):\n",
            " #   Column        Non-Null Count  Dtype \n",
            "---  ------        --------------  ----- \n",
            " 0   Home          128 non-null    int64 \n",
            " 1   Price         128 non-null    int64 \n",
            " 2   SqFt          128 non-null    int64 \n",
            " 3   Bedrooms      128 non-null    int64 \n",
            " 4   Bathrooms     128 non-null    int64 \n",
            " 5   Offers        128 non-null    int64 \n",
            " 6   Brick         128 non-null    object\n",
            " 7   Neighborhood  128 non-null    object\n",
            "dtypes: int64(6), object(2)\n",
            "memory usage: 8.1+ KB\n",
            "None\n",
            "\n",
            "Resumen estadístico:\n",
            "             Home          Price         SqFt    Bedrooms   Bathrooms  \\\n",
            "count  128.000000     128.000000   128.000000  128.000000  128.000000   \n",
            "mean    64.500000  130427.343750  2000.937500    3.023438    2.445312   \n",
            "std     37.094474   26868.770371   211.572431    0.725951    0.514492   \n",
            "min      1.000000   69100.000000  1450.000000    2.000000    2.000000   \n",
            "25%     32.750000  111325.000000  1880.000000    3.000000    2.000000   \n",
            "50%     64.500000  125950.000000  2000.000000    3.000000    2.000000   \n",
            "75%     96.250000  148250.000000  2140.000000    3.000000    3.000000   \n",
            "max    128.000000  211200.000000  2590.000000    5.000000    4.000000   \n",
            "\n",
            "           Offers  \n",
            "count  128.000000  \n",
            "mean     2.578125  \n",
            "std      1.069324  \n",
            "min      1.000000  \n",
            "25%      2.000000  \n",
            "50%      3.000000  \n",
            "75%      3.000000  \n",
            "max      6.000000  \n",
            "\n",
            "Valores nulos por columna:\n",
            "Home            0\n",
            "Price           0\n",
            "SqFt            0\n",
            "Bedrooms        0\n",
            "Bathrooms       0\n",
            "Offers          0\n",
            "Brick           0\n",
            "Neighborhood    0\n",
            "dtype: int64\n",
            "\n",
            "Evaluación del modelo:\n",
            "Error cuadrático medio (MSE): 448551131.876941\n",
            "Coeficiente de determinación (R²): 0.30740449014754423\n",
            "\n",
            "Predicción del precio para una casa de 2000 pies cuadrados, 3 habitaciones y 2 baños: $124,924.52\n"
          ]
        }
      ],
      "source": [
        "import numpy as np\n",
        "import pandas as pd\n",
        "from sklearn.impute import SimpleImputer\n",
        "from sklearn.preprocessing import StandardScaler\n",
        "from sklearn.preprocessing import OneHotEncoder, LabelEncoder\n",
        "from sklearn.model_selection import train_test_split\n",
        "from sklearn.metrics import accuracy_score\n",
        "from sklearn.linear_model import LinearRegression\n",
        "from sklearn.metrics import mean_squared_error, r2_score\n",
        "import matplotlib.pyplot as plt\n",
        "import seaborn as sns\n",
        "\n",
        "# Cargar el dataframe\n",
        "df = pd.read_csv('/content/house-prices.csv')\n",
        "\n",
        "# Exploración de datos\n",
        "print(\"Información del DataFrame:\")\n",
        "print(df.info())\n",
        "\n",
        "print(\"\\nResumen estadístico:\")\n",
        "print(df.describe())\n",
        "\n",
        "print(\"\\nValores nulos por columna:\")\n",
        "print(df.isnull().sum())\n",
        "\n",
        "# Visualización de outliers\n",
        "numerical_columns = ['SqFt', 'Bedrooms', 'Bathrooms']\n",
        "target_column = 'Price'\n",
        "\n",
        "# Preprocesamiento de datos\n",
        "# Imputar valores faltantes en variables numéricas\n",
        "num_imputer = SimpleImputer(strategy='mean')\n",
        "df[numerical_columns] = num_imputer.fit_transform(df[numerical_columns])\n",
        "\n",
        "# Escalar las variables numéricas\n",
        "scaler = StandardScaler()\n",
        "df[numerical_columns] = scaler.fit_transform(df[numerical_columns])\n",
        "\n",
        "# Preparación de datos\n",
        "X = df[numerical_columns]\n",
        "y = df[target_column]\n",
        "X_train, X_test, y_train, y_test = train_test_split(X, y, test_size=0.2, random_state=0)\n",
        "\n",
        "# Entrenamiento del modelo\n",
        "model = LinearRegression()\n",
        "model.fit(X_train, y_train)\n",
        "\n",
        "# Evaluación del modelo\n",
        "y_pred = model.predict(X_test)\n",
        "mse = mean_squared_error(y_test, y_pred)\n",
        "r2 = r2_score(y_test, y_pred)\n",
        "\n",
        "print(f\"\\nEvaluación del modelo:\")\n",
        "print(f\"Error cuadrático medio (MSE): {mse}\")\n",
        "print(f\"Coeficiente de determinación (R²): {r2}\")\n",
        "\n",
        "# Predicción\n",
        "new_house = pd.DataFrame({'SqFt': [2000], 'Bedrooms': [3], 'Bathrooms': [2]})\n",
        "new_house_scaled = scaler.transform(new_house)  # Escalar los datos de la nueva casa\n",
        "new_house_scaled = pd.DataFrame(new_house_scaled, columns=numerical_columns)\n",
        "predicted_price = model.predict(new_house_scaled)\n",
        "\n",
        "print(f\"\\nPredicción del precio para una casa de 2000 pies cuadrados, 3 habitaciones y 2 baños: ${predicted_price[0]:,.2f}\")"
      ]
    }
  ]
}